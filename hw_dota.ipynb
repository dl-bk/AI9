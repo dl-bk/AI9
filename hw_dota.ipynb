{
 "cells": [
  {
   "cell_type": "code",
   "execution_count": 1,
   "id": "4bf7367a",
   "metadata": {
    "execution": {
     "iopub.execute_input": "2024-03-24T16:49:53.333089Z",
     "iopub.status.busy": "2024-03-24T16:49:53.332170Z",
     "iopub.status.idle": "2024-03-24T16:49:57.277368Z",
     "shell.execute_reply": "2024-03-24T16:49:57.275737Z"
    },
    "papermill": {
     "duration": 3.95704,
     "end_time": "2024-03-24T16:49:57.280775",
     "exception": false,
     "start_time": "2024-03-24T16:49:53.323735",
     "status": "completed"
    },
    "tags": []
   },
   "outputs": [],
   "source": [
    "from sklearn.compose import ColumnTransformer\n",
    "from sklearn.pipeline import Pipeline\n",
    "from sklearn.impute import SimpleImputer\n",
    "from sklearn.preprocessing import OneHotEncoder\n",
    "import pandas as pd\n",
    "import numpy as np\n",
    "import matplotlib.pyplot as plt\n",
    "from sklearn import metrics\n",
    "import lightgbm as lgb\n",
    "from sklearn.model_selection import train_test_split"
   ]
  },
  {
   "cell_type": "code",
   "execution_count": 2,
   "id": "2891d64b",
   "metadata": {
    "_cell_guid": "b1076dfc-b9ad-4769-8c92-a6c4dae69d19",
    "_uuid": "8f2839f25d086af736a60e9eeb907d3b93b6e0e5",
    "execution": {
     "iopub.execute_input": "2024-03-24T16:49:57.293733Z",
     "iopub.status.busy": "2024-03-24T16:49:57.293091Z",
     "iopub.status.idle": "2024-03-24T16:50:00.062530Z",
     "shell.execute_reply": "2024-03-24T16:50:00.061010Z"
    },
    "papermill": {
     "duration": 2.779289,
     "end_time": "2024-03-24T16:50:00.065420",
     "exception": false,
     "start_time": "2024-03-24T16:49:57.286131",
     "status": "completed"
    },
    "tags": []
   },
   "outputs": [
    {
     "data": {
      "text/html": [
       "<div>\n",
       "<style scoped>\n",
       "    .dataframe tbody tr th:only-of-type {\n",
       "        vertical-align: middle;\n",
       "    }\n",
       "\n",
       "    .dataframe tbody tr th {\n",
       "        vertical-align: top;\n",
       "    }\n",
       "\n",
       "    .dataframe thead th {\n",
       "        text-align: right;\n",
       "    }\n",
       "</style>\n",
       "<table border=\"1\" class=\"dataframe\">\n",
       "  <thead>\n",
       "    <tr style=\"text-align: right;\">\n",
       "      <th></th>\n",
       "      <th>time</th>\n",
       "      <th>radiant_roshankill</th>\n",
       "      <th>radiant_Δroshankill</th>\n",
       "      <th>dire_roshankill</th>\n",
       "      <th>dire_Δroshankill</th>\n",
       "      <th>good_tower1</th>\n",
       "      <th>good_tower2</th>\n",
       "      <th>good_tower3</th>\n",
       "      <th>good_melee</th>\n",
       "      <th>good_range</th>\n",
       "      <th>...</th>\n",
       "      <th>radiant_buyback</th>\n",
       "      <th>dire_buyback</th>\n",
       "      <th>radiant_Δrunes</th>\n",
       "      <th>dire_Δrunes</th>\n",
       "      <th>radiant_runes</th>\n",
       "      <th>dire_runes</th>\n",
       "      <th>radiant_aegis</th>\n",
       "      <th>dire_aegis</th>\n",
       "      <th>radiantΔaegis</th>\n",
       "      <th>direΔaegis</th>\n",
       "    </tr>\n",
       "  </thead>\n",
       "  <tbody>\n",
       "    <tr>\n",
       "      <th>0</th>\n",
       "      <td>0</td>\n",
       "      <td>0</td>\n",
       "      <td>0</td>\n",
       "      <td>0</td>\n",
       "      <td>0</td>\n",
       "      <td>3</td>\n",
       "      <td>3</td>\n",
       "      <td>3</td>\n",
       "      <td>3</td>\n",
       "      <td>3</td>\n",
       "      <td>...</td>\n",
       "      <td>0</td>\n",
       "      <td>0</td>\n",
       "      <td>1</td>\n",
       "      <td>1</td>\n",
       "      <td>1</td>\n",
       "      <td>1</td>\n",
       "      <td>0</td>\n",
       "      <td>0</td>\n",
       "      <td>0</td>\n",
       "      <td>0</td>\n",
       "    </tr>\n",
       "    <tr>\n",
       "      <th>1</th>\n",
       "      <td>60</td>\n",
       "      <td>0</td>\n",
       "      <td>0</td>\n",
       "      <td>0</td>\n",
       "      <td>0</td>\n",
       "      <td>3</td>\n",
       "      <td>3</td>\n",
       "      <td>3</td>\n",
       "      <td>3</td>\n",
       "      <td>3</td>\n",
       "      <td>...</td>\n",
       "      <td>0</td>\n",
       "      <td>0</td>\n",
       "      <td>1</td>\n",
       "      <td>1</td>\n",
       "      <td>2</td>\n",
       "      <td>2</td>\n",
       "      <td>0</td>\n",
       "      <td>0</td>\n",
       "      <td>0</td>\n",
       "      <td>0</td>\n",
       "    </tr>\n",
       "    <tr>\n",
       "      <th>2</th>\n",
       "      <td>120</td>\n",
       "      <td>0</td>\n",
       "      <td>0</td>\n",
       "      <td>0</td>\n",
       "      <td>0</td>\n",
       "      <td>3</td>\n",
       "      <td>3</td>\n",
       "      <td>3</td>\n",
       "      <td>3</td>\n",
       "      <td>3</td>\n",
       "      <td>...</td>\n",
       "      <td>0</td>\n",
       "      <td>0</td>\n",
       "      <td>0</td>\n",
       "      <td>0</td>\n",
       "      <td>2</td>\n",
       "      <td>2</td>\n",
       "      <td>0</td>\n",
       "      <td>0</td>\n",
       "      <td>0</td>\n",
       "      <td>0</td>\n",
       "    </tr>\n",
       "    <tr>\n",
       "      <th>3</th>\n",
       "      <td>180</td>\n",
       "      <td>0</td>\n",
       "      <td>0</td>\n",
       "      <td>0</td>\n",
       "      <td>0</td>\n",
       "      <td>3</td>\n",
       "      <td>3</td>\n",
       "      <td>3</td>\n",
       "      <td>3</td>\n",
       "      <td>3</td>\n",
       "      <td>...</td>\n",
       "      <td>0</td>\n",
       "      <td>0</td>\n",
       "      <td>0</td>\n",
       "      <td>0</td>\n",
       "      <td>2</td>\n",
       "      <td>2</td>\n",
       "      <td>0</td>\n",
       "      <td>0</td>\n",
       "      <td>0</td>\n",
       "      <td>0</td>\n",
       "    </tr>\n",
       "    <tr>\n",
       "      <th>4</th>\n",
       "      <td>240</td>\n",
       "      <td>0</td>\n",
       "      <td>0</td>\n",
       "      <td>0</td>\n",
       "      <td>0</td>\n",
       "      <td>3</td>\n",
       "      <td>3</td>\n",
       "      <td>3</td>\n",
       "      <td>3</td>\n",
       "      <td>3</td>\n",
       "      <td>...</td>\n",
       "      <td>0</td>\n",
       "      <td>0</td>\n",
       "      <td>0</td>\n",
       "      <td>0</td>\n",
       "      <td>2</td>\n",
       "      <td>2</td>\n",
       "      <td>0</td>\n",
       "      <td>0</td>\n",
       "      <td>0</td>\n",
       "      <td>0</td>\n",
       "    </tr>\n",
       "  </tbody>\n",
       "</table>\n",
       "<p>5 rows × 83 columns</p>\n",
       "</div>"
      ],
      "text/plain": [
       "   time  radiant_roshankill  radiant_Δroshankill  dire_roshankill  \\\n",
       "0     0                   0                    0                0   \n",
       "1    60                   0                    0                0   \n",
       "2   120                   0                    0                0   \n",
       "3   180                   0                    0                0   \n",
       "4   240                   0                    0                0   \n",
       "\n",
       "   dire_Δroshankill  good_tower1  good_tower2  good_tower3  good_melee  \\\n",
       "0                 0            3            3            3           3   \n",
       "1                 0            3            3            3           3   \n",
       "2                 0            3            3            3           3   \n",
       "3                 0            3            3            3           3   \n",
       "4                 0            3            3            3           3   \n",
       "\n",
       "   good_range  ...  radiant_buyback  dire_buyback  radiant_Δrunes  \\\n",
       "0           3  ...                0             0               1   \n",
       "1           3  ...                0             0               1   \n",
       "2           3  ...                0             0               0   \n",
       "3           3  ...                0             0               0   \n",
       "4           3  ...                0             0               0   \n",
       "\n",
       "   dire_Δrunes  radiant_runes  dire_runes  radiant_aegis  dire_aegis  \\\n",
       "0            1              1           1              0           0   \n",
       "1            1              2           2              0           0   \n",
       "2            0              2           2              0           0   \n",
       "3            0              2           2              0           0   \n",
       "4            0              2           2              0           0   \n",
       "\n",
       "   radiantΔaegis  direΔaegis  \n",
       "0              0           0  \n",
       "1              0           0  \n",
       "2              0           0  \n",
       "3              0           0  \n",
       "4              0           0  \n",
       "\n",
       "[5 rows x 83 columns]"
      ]
     },
     "execution_count": 2,
     "metadata": {},
     "output_type": "execute_result"
    }
   ],
   "source": [
    "df = pd.read_csv(\"/kaggle/input/small-nice-data-dota2/small_nice_data.csv\",\n",
    "                 index_col=0)\n",
    "\n",
    "df.head()"
   ]
  },
  {
   "cell_type": "code",
   "execution_count": 3,
   "id": "a5b09206",
   "metadata": {
    "execution": {
     "iopub.execute_input": "2024-03-24T16:50:00.078898Z",
     "iopub.status.busy": "2024-03-24T16:50:00.078430Z",
     "iopub.status.idle": "2024-03-24T16:50:00.085686Z",
     "shell.execute_reply": "2024-03-24T16:50:00.084488Z"
    },
    "papermill": {
     "duration": 0.017804,
     "end_time": "2024-03-24T16:50:00.088725",
     "exception": false,
     "start_time": "2024-03-24T16:50:00.070921",
     "status": "completed"
    },
    "tags": []
   },
   "outputs": [
    {
     "data": {
      "text/plain": [
       "(164300, 83)"
      ]
     },
     "execution_count": 3,
     "metadata": {},
     "output_type": "execute_result"
    }
   ],
   "source": [
    "df.shape"
   ]
  },
  {
   "cell_type": "code",
   "execution_count": null,
   "id": "fed105b2",
   "metadata": {
    "papermill": {
     "duration": 0.005363,
     "end_time": "2024-03-24T16:50:00.100977",
     "exception": false,
     "start_time": "2024-03-24T16:50:00.095614",
     "status": "completed"
    },
    "tags": []
   },
   "outputs": [],
   "source": []
  },
  {
   "cell_type": "code",
   "execution_count": 4,
   "id": "14be18ca",
   "metadata": {
    "execution": {
     "iopub.execute_input": "2024-03-24T16:50:00.114541Z",
     "iopub.status.busy": "2024-03-24T16:50:00.113744Z",
     "iopub.status.idle": "2024-03-24T16:50:00.166764Z",
     "shell.execute_reply": "2024-03-24T16:50:00.165647Z"
    },
    "papermill": {
     "duration": 0.06286,
     "end_time": "2024-03-24T16:50:00.169454",
     "exception": false,
     "start_time": "2024-03-24T16:50:00.106594",
     "status": "completed"
    },
    "scrolled": true,
    "tags": []
   },
   "outputs": [
    {
     "name": "stdout",
     "output_type": "stream",
     "text": [
      "<class 'pandas.core.frame.DataFrame'>\n",
      "Index: 164300 entries, 0 to 164742\n",
      "Data columns (total 83 columns):\n",
      " #   Column                     Non-Null Count   Dtype  \n",
      "---  ------                     --------------   -----  \n",
      " 0   time                       164300 non-null  int64  \n",
      " 1   radiant_roshankill         164300 non-null  int64  \n",
      " 2   radiant_Δroshankill        164300 non-null  int64  \n",
      " 3   dire_roshankill            164300 non-null  int64  \n",
      " 4   dire_Δroshankill           164300 non-null  int64  \n",
      " 5   good_tower1                164300 non-null  int64  \n",
      " 6   good_tower2                164300 non-null  int64  \n",
      " 7   good_tower3                164300 non-null  int64  \n",
      " 8   good_melee                 164300 non-null  int64  \n",
      " 9   good_range                 164300 non-null  int64  \n",
      " 10  good_fort                  164300 non-null  int64  \n",
      " 11  bad_tower1                 164300 non-null  int64  \n",
      " 12  bad_tower2                 164300 non-null  int64  \n",
      " 13  bad_tower3                 164300 non-null  int64  \n",
      " 14  bad_melee                  164300 non-null  int64  \n",
      " 15  bad_range                  164300 non-null  int64  \n",
      " 16  bad_fort                   164300 non-null  int64  \n",
      " 17  id                         164300 non-null  int64  \n",
      " 18  y                          164300 non-null  int64  \n",
      " 19  radiant_xp_t               164300 non-null  float64\n",
      " 20  dire_xp_t                  164300 non-null  float64\n",
      " 21  radiant_Δxp_t              164300 non-null  float64\n",
      " 22  dire_Δxp_t                 164300 non-null  float64\n",
      " 23  radiant_gold_t             164300 non-null  float64\n",
      " 24  dire_gold_t                164300 non-null  float64\n",
      " 25  radiant_Δgold_t            164300 non-null  float64\n",
      " 26  dire_Δgold_t               164300 non-null  float64\n",
      " 27  radiant_dn_t               164300 non-null  float64\n",
      " 28  dire_dn_t                  164300 non-null  float64\n",
      " 29  radiant_Δdn_t              164300 non-null  float64\n",
      " 30  dire_Δdn_t                 164300 non-null  float64\n",
      " 31  radiant_lh_t               164300 non-null  float64\n",
      " 32  dire_lh_t                  164300 non-null  float64\n",
      " 33  radiant_Δlh_t              164300 non-null  float64\n",
      " 34  dire_Δlh_t                 164300 non-null  float64\n",
      " 35  radiant_artifact_count     164300 non-null  float64\n",
      " 36  dire_artifact_count        164300 non-null  float64\n",
      " 37  radiant_common_count       164300 non-null  float64\n",
      " 38  dire_common_count          164300 non-null  float64\n",
      " 39  radiant_component_count    164300 non-null  float64\n",
      " 40  dire_component_count       164300 non-null  float64\n",
      " 41  radiant_consumable_count   164300 non-null  float64\n",
      " 42  dire_consumable_count      164300 non-null  float64\n",
      " 43  radiant_epic_count         164300 non-null  float64\n",
      " 44  dire_epic_count            164300 non-null  float64\n",
      " 45  radiant_rare_count         164300 non-null  float64\n",
      " 46  dire_rare_count            164300 non-null  float64\n",
      " 47  radiant_secret_shop_count  164300 non-null  float64\n",
      " 48  dire_secret_shop_count     164300 non-null  float64\n",
      " 49  radiant_null_count         164300 non-null  float64\n",
      " 50  dire_null_count            164300 non-null  float64\n",
      " 51  radiant_artifact_cost      164300 non-null  float64\n",
      " 52  dire_artifact_cost         164300 non-null  float64\n",
      " 53  radiant_common_cost        164300 non-null  float64\n",
      " 54  dire_common_cost           164300 non-null  float64\n",
      " 55  radiant_component_cost     164300 non-null  float64\n",
      " 56  dire_component_cost        164300 non-null  float64\n",
      " 57  radiant_consumable_cost    164300 non-null  float64\n",
      " 58  dire_consumable_cost       164300 non-null  float64\n",
      " 59  radiant_epic_cost          164300 non-null  float64\n",
      " 60  dire_epic_cost             164300 non-null  float64\n",
      " 61  radiant_rare_cost          164300 non-null  float64\n",
      " 62  dire_rare_cost             164300 non-null  float64\n",
      " 63  radiant_secret_shop_cost   164300 non-null  float64\n",
      " 64  dire_secret_shop_cost      164300 non-null  float64\n",
      " 65  radiant_null_cost          164300 non-null  float64\n",
      " 66  dire_null_cost             164300 non-null  float64\n",
      " 67  radiant_Δkills             164300 non-null  int64  \n",
      " 68  dire_Δkills                164300 non-null  int64  \n",
      " 69  radiant_kills              164300 non-null  int64  \n",
      " 70  dire_kills                 164300 non-null  int64  \n",
      " 71  radiant_Δbuyback           164300 non-null  int64  \n",
      " 72  dire_Δbuyback              164300 non-null  int64  \n",
      " 73  radiant_buyback            164300 non-null  int64  \n",
      " 74  dire_buyback               164300 non-null  int64  \n",
      " 75  radiant_Δrunes             164300 non-null  int64  \n",
      " 76  dire_Δrunes                164300 non-null  int64  \n",
      " 77  radiant_runes              164300 non-null  int64  \n",
      " 78  dire_runes                 164300 non-null  int64  \n",
      " 79  radiant_aegis              164300 non-null  int64  \n",
      " 80  dire_aegis                 164300 non-null  int64  \n",
      " 81  radiantΔaegis              164300 non-null  int64  \n",
      " 82  direΔaegis                 164300 non-null  int64  \n",
      "dtypes: float64(48), int64(35)\n",
      "memory usage: 105.3 MB\n"
     ]
    }
   ],
   "source": [
    "df.info()"
   ]
  },
  {
   "cell_type": "code",
   "execution_count": 5,
   "id": "8ab17a57",
   "metadata": {
    "execution": {
     "iopub.execute_input": "2024-03-24T16:50:00.183966Z",
     "iopub.status.busy": "2024-03-24T16:50:00.182735Z",
     "iopub.status.idle": "2024-03-24T16:50:00.742592Z",
     "shell.execute_reply": "2024-03-24T16:50:00.738711Z"
    },
    "papermill": {
     "duration": 0.570861,
     "end_time": "2024-03-24T16:50:00.746125",
     "exception": false,
     "start_time": "2024-03-24T16:50:00.175264",
     "status": "completed"
    },
    "tags": []
   },
   "outputs": [
    {
     "data": {
      "text/html": [
       "<div>\n",
       "<style scoped>\n",
       "    .dataframe tbody tr th:only-of-type {\n",
       "        vertical-align: middle;\n",
       "    }\n",
       "\n",
       "    .dataframe tbody tr th {\n",
       "        vertical-align: top;\n",
       "    }\n",
       "\n",
       "    .dataframe thead th {\n",
       "        text-align: right;\n",
       "    }\n",
       "</style>\n",
       "<table border=\"1\" class=\"dataframe\">\n",
       "  <thead>\n",
       "    <tr style=\"text-align: right;\">\n",
       "      <th></th>\n",
       "      <th>time</th>\n",
       "      <th>radiant_roshankill</th>\n",
       "      <th>radiant_Δroshankill</th>\n",
       "      <th>dire_roshankill</th>\n",
       "      <th>dire_Δroshankill</th>\n",
       "      <th>good_tower1</th>\n",
       "      <th>good_tower2</th>\n",
       "      <th>good_tower3</th>\n",
       "      <th>good_melee</th>\n",
       "      <th>good_range</th>\n",
       "      <th>...</th>\n",
       "      <th>radiant_buyback</th>\n",
       "      <th>dire_buyback</th>\n",
       "      <th>radiant_Δrunes</th>\n",
       "      <th>dire_Δrunes</th>\n",
       "      <th>radiant_runes</th>\n",
       "      <th>dire_runes</th>\n",
       "      <th>radiant_aegis</th>\n",
       "      <th>dire_aegis</th>\n",
       "      <th>radiantΔaegis</th>\n",
       "      <th>direΔaegis</th>\n",
       "    </tr>\n",
       "  </thead>\n",
       "  <tbody>\n",
       "    <tr>\n",
       "      <th>count</th>\n",
       "      <td>164300.000000</td>\n",
       "      <td>164300.000000</td>\n",
       "      <td>164300.000000</td>\n",
       "      <td>164300.000000</td>\n",
       "      <td>164300.000000</td>\n",
       "      <td>164300.000000</td>\n",
       "      <td>164300.000000</td>\n",
       "      <td>164300.000000</td>\n",
       "      <td>164300.000000</td>\n",
       "      <td>164300.000000</td>\n",
       "      <td>...</td>\n",
       "      <td>164300.000000</td>\n",
       "      <td>164300.000000</td>\n",
       "      <td>164300.000000</td>\n",
       "      <td>164300.000000</td>\n",
       "      <td>164300.000000</td>\n",
       "      <td>164300.000000</td>\n",
       "      <td>164300.000000</td>\n",
       "      <td>164300.000000</td>\n",
       "      <td>164300.000000</td>\n",
       "      <td>164300.000000</td>\n",
       "    </tr>\n",
       "    <tr>\n",
       "      <th>mean</th>\n",
       "      <td>1072.197079</td>\n",
       "      <td>0.285813</td>\n",
       "      <td>0.022069</td>\n",
       "      <td>0.197663</td>\n",
       "      <td>0.016932</td>\n",
       "      <td>1.661540</td>\n",
       "      <td>2.553670</td>\n",
       "      <td>2.872051</td>\n",
       "      <td>2.906032</td>\n",
       "      <td>2.916226</td>\n",
       "      <td>...</td>\n",
       "      <td>0.438497</td>\n",
       "      <td>0.423177</td>\n",
       "      <td>0.606409</td>\n",
       "      <td>0.596884</td>\n",
       "      <td>11.661236</td>\n",
       "      <td>11.479075</td>\n",
       "      <td>0.274583</td>\n",
       "      <td>0.187182</td>\n",
       "      <td>0.021272</td>\n",
       "      <td>0.016196</td>\n",
       "    </tr>\n",
       "    <tr>\n",
       "      <th>std</th>\n",
       "      <td>734.369752</td>\n",
       "      <td>0.607209</td>\n",
       "      <td>0.146910</td>\n",
       "      <td>0.491219</td>\n",
       "      <td>0.129019</td>\n",
       "      <td>1.229113</td>\n",
       "      <td>0.879006</td>\n",
       "      <td>0.467094</td>\n",
       "      <td>0.397592</td>\n",
       "      <td>0.376865</td>\n",
       "      <td>...</td>\n",
       "      <td>1.134580</td>\n",
       "      <td>1.116944</td>\n",
       "      <td>0.904239</td>\n",
       "      <td>0.900847</td>\n",
       "      <td>8.688824</td>\n",
       "      <td>8.478081</td>\n",
       "      <td>0.589938</td>\n",
       "      <td>0.476634</td>\n",
       "      <td>0.144290</td>\n",
       "      <td>0.126229</td>\n",
       "    </tr>\n",
       "    <tr>\n",
       "      <th>min</th>\n",
       "      <td>0.000000</td>\n",
       "      <td>0.000000</td>\n",
       "      <td>0.000000</td>\n",
       "      <td>0.000000</td>\n",
       "      <td>0.000000</td>\n",
       "      <td>0.000000</td>\n",
       "      <td>0.000000</td>\n",
       "      <td>0.000000</td>\n",
       "      <td>0.000000</td>\n",
       "      <td>0.000000</td>\n",
       "      <td>...</td>\n",
       "      <td>0.000000</td>\n",
       "      <td>0.000000</td>\n",
       "      <td>0.000000</td>\n",
       "      <td>0.000000</td>\n",
       "      <td>0.000000</td>\n",
       "      <td>0.000000</td>\n",
       "      <td>0.000000</td>\n",
       "      <td>0.000000</td>\n",
       "      <td>0.000000</td>\n",
       "      <td>0.000000</td>\n",
       "    </tr>\n",
       "    <tr>\n",
       "      <th>25%</th>\n",
       "      <td>480.000000</td>\n",
       "      <td>0.000000</td>\n",
       "      <td>0.000000</td>\n",
       "      <td>0.000000</td>\n",
       "      <td>0.000000</td>\n",
       "      <td>0.000000</td>\n",
       "      <td>3.000000</td>\n",
       "      <td>3.000000</td>\n",
       "      <td>3.000000</td>\n",
       "      <td>3.000000</td>\n",
       "      <td>...</td>\n",
       "      <td>0.000000</td>\n",
       "      <td>0.000000</td>\n",
       "      <td>0.000000</td>\n",
       "      <td>0.000000</td>\n",
       "      <td>5.000000</td>\n",
       "      <td>5.000000</td>\n",
       "      <td>0.000000</td>\n",
       "      <td>0.000000</td>\n",
       "      <td>0.000000</td>\n",
       "      <td>0.000000</td>\n",
       "    </tr>\n",
       "    <tr>\n",
       "      <th>50%</th>\n",
       "      <td>1020.000000</td>\n",
       "      <td>0.000000</td>\n",
       "      <td>0.000000</td>\n",
       "      <td>0.000000</td>\n",
       "      <td>0.000000</td>\n",
       "      <td>2.000000</td>\n",
       "      <td>3.000000</td>\n",
       "      <td>3.000000</td>\n",
       "      <td>3.000000</td>\n",
       "      <td>3.000000</td>\n",
       "      <td>...</td>\n",
       "      <td>0.000000</td>\n",
       "      <td>0.000000</td>\n",
       "      <td>0.000000</td>\n",
       "      <td>0.000000</td>\n",
       "      <td>10.000000</td>\n",
       "      <td>10.000000</td>\n",
       "      <td>0.000000</td>\n",
       "      <td>0.000000</td>\n",
       "      <td>0.000000</td>\n",
       "      <td>0.000000</td>\n",
       "    </tr>\n",
       "    <tr>\n",
       "      <th>75%</th>\n",
       "      <td>1560.000000</td>\n",
       "      <td>0.000000</td>\n",
       "      <td>0.000000</td>\n",
       "      <td>0.000000</td>\n",
       "      <td>0.000000</td>\n",
       "      <td>3.000000</td>\n",
       "      <td>3.000000</td>\n",
       "      <td>3.000000</td>\n",
       "      <td>3.000000</td>\n",
       "      <td>3.000000</td>\n",
       "      <td>...</td>\n",
       "      <td>0.000000</td>\n",
       "      <td>0.000000</td>\n",
       "      <td>1.000000</td>\n",
       "      <td>1.000000</td>\n",
       "      <td>17.000000</td>\n",
       "      <td>17.000000</td>\n",
       "      <td>0.000000</td>\n",
       "      <td>0.000000</td>\n",
       "      <td>0.000000</td>\n",
       "      <td>0.000000</td>\n",
       "    </tr>\n",
       "    <tr>\n",
       "      <th>max</th>\n",
       "      <td>5820.000000</td>\n",
       "      <td>6.000000</td>\n",
       "      <td>1.000000</td>\n",
       "      <td>5.000000</td>\n",
       "      <td>1.000000</td>\n",
       "      <td>3.000000</td>\n",
       "      <td>3.000000</td>\n",
       "      <td>3.000000</td>\n",
       "      <td>3.000000</td>\n",
       "      <td>3.000000</td>\n",
       "      <td>...</td>\n",
       "      <td>21.000000</td>\n",
       "      <td>19.000000</td>\n",
       "      <td>6.000000</td>\n",
       "      <td>7.000000</td>\n",
       "      <td>134.000000</td>\n",
       "      <td>106.000000</td>\n",
       "      <td>5.000000</td>\n",
       "      <td>5.000000</td>\n",
       "      <td>1.000000</td>\n",
       "      <td>1.000000</td>\n",
       "    </tr>\n",
       "  </tbody>\n",
       "</table>\n",
       "<p>8 rows × 83 columns</p>\n",
       "</div>"
      ],
      "text/plain": [
       "                time  radiant_roshankill  radiant_Δroshankill  \\\n",
       "count  164300.000000       164300.000000        164300.000000   \n",
       "mean     1072.197079            0.285813             0.022069   \n",
       "std       734.369752            0.607209             0.146910   \n",
       "min         0.000000            0.000000             0.000000   \n",
       "25%       480.000000            0.000000             0.000000   \n",
       "50%      1020.000000            0.000000             0.000000   \n",
       "75%      1560.000000            0.000000             0.000000   \n",
       "max      5820.000000            6.000000             1.000000   \n",
       "\n",
       "       dire_roshankill  dire_Δroshankill    good_tower1    good_tower2  \\\n",
       "count    164300.000000     164300.000000  164300.000000  164300.000000   \n",
       "mean          0.197663          0.016932       1.661540       2.553670   \n",
       "std           0.491219          0.129019       1.229113       0.879006   \n",
       "min           0.000000          0.000000       0.000000       0.000000   \n",
       "25%           0.000000          0.000000       0.000000       3.000000   \n",
       "50%           0.000000          0.000000       2.000000       3.000000   \n",
       "75%           0.000000          0.000000       3.000000       3.000000   \n",
       "max           5.000000          1.000000       3.000000       3.000000   \n",
       "\n",
       "         good_tower3     good_melee     good_range  ...  radiant_buyback  \\\n",
       "count  164300.000000  164300.000000  164300.000000  ...    164300.000000   \n",
       "mean        2.872051       2.906032       2.916226  ...         0.438497   \n",
       "std         0.467094       0.397592       0.376865  ...         1.134580   \n",
       "min         0.000000       0.000000       0.000000  ...         0.000000   \n",
       "25%         3.000000       3.000000       3.000000  ...         0.000000   \n",
       "50%         3.000000       3.000000       3.000000  ...         0.000000   \n",
       "75%         3.000000       3.000000       3.000000  ...         0.000000   \n",
       "max         3.000000       3.000000       3.000000  ...        21.000000   \n",
       "\n",
       "        dire_buyback  radiant_Δrunes    dire_Δrunes  radiant_runes  \\\n",
       "count  164300.000000   164300.000000  164300.000000  164300.000000   \n",
       "mean        0.423177        0.606409       0.596884      11.661236   \n",
       "std         1.116944        0.904239       0.900847       8.688824   \n",
       "min         0.000000        0.000000       0.000000       0.000000   \n",
       "25%         0.000000        0.000000       0.000000       5.000000   \n",
       "50%         0.000000        0.000000       0.000000      10.000000   \n",
       "75%         0.000000        1.000000       1.000000      17.000000   \n",
       "max        19.000000        6.000000       7.000000     134.000000   \n",
       "\n",
       "          dire_runes  radiant_aegis     dire_aegis  radiantΔaegis  \\\n",
       "count  164300.000000  164300.000000  164300.000000  164300.000000   \n",
       "mean       11.479075       0.274583       0.187182       0.021272   \n",
       "std         8.478081       0.589938       0.476634       0.144290   \n",
       "min         0.000000       0.000000       0.000000       0.000000   \n",
       "25%         5.000000       0.000000       0.000000       0.000000   \n",
       "50%        10.000000       0.000000       0.000000       0.000000   \n",
       "75%        17.000000       0.000000       0.000000       0.000000   \n",
       "max       106.000000       5.000000       5.000000       1.000000   \n",
       "\n",
       "          direΔaegis  \n",
       "count  164300.000000  \n",
       "mean        0.016196  \n",
       "std         0.126229  \n",
       "min         0.000000  \n",
       "25%         0.000000  \n",
       "50%         0.000000  \n",
       "75%         0.000000  \n",
       "max         1.000000  \n",
       "\n",
       "[8 rows x 83 columns]"
      ]
     },
     "execution_count": 5,
     "metadata": {},
     "output_type": "execute_result"
    }
   ],
   "source": [
    "df.describe()"
   ]
  },
  {
   "cell_type": "code",
   "execution_count": 6,
   "id": "9eb271aa",
   "metadata": {
    "execution": {
     "iopub.execute_input": "2024-03-24T16:50:00.767939Z",
     "iopub.status.busy": "2024-03-24T16:50:00.767502Z",
     "iopub.status.idle": "2024-03-24T16:50:00.780631Z",
     "shell.execute_reply": "2024-03-24T16:50:00.779420Z"
    },
    "papermill": {
     "duration": 0.026774,
     "end_time": "2024-03-24T16:50:00.783156",
     "exception": false,
     "start_time": "2024-03-24T16:50:00.756382",
     "status": "completed"
    },
    "tags": []
   },
   "outputs": [
    {
     "data": {
      "text/plain": [
       "1020.0"
      ]
     },
     "execution_count": 6,
     "metadata": {},
     "output_type": "execute_result"
    }
   ],
   "source": [
    "df['time'].median()"
   ]
  },
  {
   "cell_type": "code",
   "execution_count": 7,
   "id": "bc49c68a",
   "metadata": {
    "execution": {
     "iopub.execute_input": "2024-03-24T16:50:00.800739Z",
     "iopub.status.busy": "2024-03-24T16:50:00.799726Z",
     "iopub.status.idle": "2024-03-24T16:50:00.846829Z",
     "shell.execute_reply": "2024-03-24T16:50:00.845585Z"
    },
    "papermill": {
     "duration": 0.059051,
     "end_time": "2024-03-24T16:50:00.849815",
     "exception": false,
     "start_time": "2024-03-24T16:50:00.790764",
     "status": "completed"
    },
    "tags": []
   },
   "outputs": [],
   "source": [
    "df = df.drop(columns='id')"
   ]
  },
  {
   "cell_type": "code",
   "execution_count": 8,
   "id": "10f10b75",
   "metadata": {
    "execution": {
     "iopub.execute_input": "2024-03-24T16:50:00.863934Z",
     "iopub.status.busy": "2024-03-24T16:50:00.863434Z",
     "iopub.status.idle": "2024-03-24T16:50:00.970813Z",
     "shell.execute_reply": "2024-03-24T16:50:00.969538Z"
    },
    "papermill": {
     "duration": 0.117775,
     "end_time": "2024-03-24T16:50:00.973718",
     "exception": false,
     "start_time": "2024-03-24T16:50:00.855943",
     "status": "completed"
    },
    "tags": []
   },
   "outputs": [],
   "source": [
    "y = df['time']\n",
    "X = df.drop(columns='time')"
   ]
  },
  {
   "cell_type": "code",
   "execution_count": 9,
   "id": "3a763b17",
   "metadata": {
    "execution": {
     "iopub.execute_input": "2024-03-24T16:50:00.988380Z",
     "iopub.status.busy": "2024-03-24T16:50:00.987223Z",
     "iopub.status.idle": "2024-03-24T16:50:01.190720Z",
     "shell.execute_reply": "2024-03-24T16:50:01.189729Z"
    },
    "papermill": {
     "duration": 0.213635,
     "end_time": "2024-03-24T16:50:01.193354",
     "exception": false,
     "start_time": "2024-03-24T16:50:00.979719",
     "status": "completed"
    },
    "tags": []
   },
   "outputs": [],
   "source": [
    "X_train, X_test, y_train, y_test = train_test_split(X, y,\n",
    "                                                    train_size=0.8,\n",
    "                                                    random_state=42)"
   ]
  },
  {
   "cell_type": "code",
   "execution_count": 10,
   "id": "be92515b",
   "metadata": {
    "execution": {
     "iopub.execute_input": "2024-03-24T16:50:01.208014Z",
     "iopub.status.busy": "2024-03-24T16:50:01.207363Z",
     "iopub.status.idle": "2024-03-24T16:50:01.379882Z",
     "shell.execute_reply": "2024-03-24T16:50:01.378975Z"
    },
    "papermill": {
     "duration": 0.183081,
     "end_time": "2024-03-24T16:50:01.382637",
     "exception": false,
     "start_time": "2024-03-24T16:50:01.199556",
     "status": "completed"
    },
    "tags": []
   },
   "outputs": [
    {
     "data": {
      "text/html": [
       "<style>#sk-container-id-1 {color: black;background-color: white;}#sk-container-id-1 pre{padding: 0;}#sk-container-id-1 div.sk-toggleable {background-color: white;}#sk-container-id-1 label.sk-toggleable__label {cursor: pointer;display: block;width: 100%;margin-bottom: 0;padding: 0.3em;box-sizing: border-box;text-align: center;}#sk-container-id-1 label.sk-toggleable__label-arrow:before {content: \"▸\";float: left;margin-right: 0.25em;color: #696969;}#sk-container-id-1 label.sk-toggleable__label-arrow:hover:before {color: black;}#sk-container-id-1 div.sk-estimator:hover label.sk-toggleable__label-arrow:before {color: black;}#sk-container-id-1 div.sk-toggleable__content {max-height: 0;max-width: 0;overflow: hidden;text-align: left;background-color: #f0f8ff;}#sk-container-id-1 div.sk-toggleable__content pre {margin: 0.2em;color: black;border-radius: 0.25em;background-color: #f0f8ff;}#sk-container-id-1 input.sk-toggleable__control:checked~div.sk-toggleable__content {max-height: 200px;max-width: 100%;overflow: auto;}#sk-container-id-1 input.sk-toggleable__control:checked~label.sk-toggleable__label-arrow:before {content: \"▾\";}#sk-container-id-1 div.sk-estimator input.sk-toggleable__control:checked~label.sk-toggleable__label {background-color: #d4ebff;}#sk-container-id-1 div.sk-label input.sk-toggleable__control:checked~label.sk-toggleable__label {background-color: #d4ebff;}#sk-container-id-1 input.sk-hidden--visually {border: 0;clip: rect(1px 1px 1px 1px);clip: rect(1px, 1px, 1px, 1px);height: 1px;margin: -1px;overflow: hidden;padding: 0;position: absolute;width: 1px;}#sk-container-id-1 div.sk-estimator {font-family: monospace;background-color: #f0f8ff;border: 1px dotted black;border-radius: 0.25em;box-sizing: border-box;margin-bottom: 0.5em;}#sk-container-id-1 div.sk-estimator:hover {background-color: #d4ebff;}#sk-container-id-1 div.sk-parallel-item::after {content: \"\";width: 100%;border-bottom: 1px solid gray;flex-grow: 1;}#sk-container-id-1 div.sk-label:hover label.sk-toggleable__label {background-color: #d4ebff;}#sk-container-id-1 div.sk-serial::before {content: \"\";position: absolute;border-left: 1px solid gray;box-sizing: border-box;top: 0;bottom: 0;left: 50%;z-index: 0;}#sk-container-id-1 div.sk-serial {display: flex;flex-direction: column;align-items: center;background-color: white;padding-right: 0.2em;padding-left: 0.2em;position: relative;}#sk-container-id-1 div.sk-item {position: relative;z-index: 1;}#sk-container-id-1 div.sk-parallel {display: flex;align-items: stretch;justify-content: center;background-color: white;position: relative;}#sk-container-id-1 div.sk-item::before, #sk-container-id-1 div.sk-parallel-item::before {content: \"\";position: absolute;border-left: 1px solid gray;box-sizing: border-box;top: 0;bottom: 0;left: 50%;z-index: -1;}#sk-container-id-1 div.sk-parallel-item {display: flex;flex-direction: column;z-index: 1;position: relative;background-color: white;}#sk-container-id-1 div.sk-parallel-item:first-child::after {align-self: flex-end;width: 50%;}#sk-container-id-1 div.sk-parallel-item:last-child::after {align-self: flex-start;width: 50%;}#sk-container-id-1 div.sk-parallel-item:only-child::after {width: 0;}#sk-container-id-1 div.sk-dashed-wrapped {border: 1px dashed gray;margin: 0 0.4em 0.5em 0.4em;box-sizing: border-box;padding-bottom: 0.4em;background-color: white;}#sk-container-id-1 div.sk-label label {font-family: monospace;font-weight: bold;display: inline-block;line-height: 1.2em;}#sk-container-id-1 div.sk-label-container {text-align: center;}#sk-container-id-1 div.sk-container {/* jupyter's `normalize.less` sets `[hidden] { display: none; }` but bootstrap.min.css set `[hidden] { display: none !important; }` so we also need the `!important` here to be able to override the default hidden behavior on the sphinx rendered scikit-learn.org. See: https://github.com/scikit-learn/scikit-learn/issues/21755 */display: inline-block !important;position: relative;}#sk-container-id-1 div.sk-text-repr-fallback {display: none;}</style><div id=\"sk-container-id-1\" class=\"sk-top-container\"><div class=\"sk-text-repr-fallback\"><pre>ColumnTransformer(transformers=[(&#x27;num&#x27;,\n",
       "                                 Pipeline(steps=[(&#x27;imputer&#x27;,\n",
       "                                                  SimpleImputer(strategy=&#x27;median&#x27;))]),\n",
       "                                 Index([&#x27;radiant_roshankill&#x27;, &#x27;radiant_Δroshankill&#x27;, &#x27;dire_roshankill&#x27;,\n",
       "       &#x27;dire_Δroshankill&#x27;, &#x27;good_tower1&#x27;, &#x27;good_tower2&#x27;, &#x27;good_tower3&#x27;,\n",
       "       &#x27;good_melee&#x27;, &#x27;good_range&#x27;, &#x27;good_fort&#x27;, &#x27;bad_tower1&#x27;, &#x27;bad_tower2&#x27;,\n",
       "       &#x27;bad_tower3&#x27;, &#x27;bad_melee&#x27;, &#x27;bad_range&#x27;, &#x27;bad_fort&#x27;, &#x27;y&#x27;, &#x27;ra...\n",
       "       &#x27;radiant_secret_shop_cost&#x27;, &#x27;dire_secret_shop_cost&#x27;,\n",
       "       &#x27;radiant_null_cost&#x27;, &#x27;dire_null_cost&#x27;, &#x27;radiant_Δkills&#x27;, &#x27;dire_Δkills&#x27;,\n",
       "       &#x27;radiant_kills&#x27;, &#x27;dire_kills&#x27;, &#x27;radiant_Δbuyback&#x27;, &#x27;dire_Δbuyback&#x27;,\n",
       "       &#x27;radiant_buyback&#x27;, &#x27;dire_buyback&#x27;, &#x27;radiant_Δrunes&#x27;, &#x27;dire_Δrunes&#x27;,\n",
       "       &#x27;radiant_runes&#x27;, &#x27;dire_runes&#x27;, &#x27;radiant_aegis&#x27;, &#x27;dire_aegis&#x27;,\n",
       "       &#x27;radiantΔaegis&#x27;, &#x27;direΔaegis&#x27;],\n",
       "      dtype=&#x27;object&#x27;))])</pre><b>In a Jupyter environment, please rerun this cell to show the HTML representation or trust the notebook. <br />On GitHub, the HTML representation is unable to render, please try loading this page with nbviewer.org.</b></div><div class=\"sk-container\" hidden><div class=\"sk-item sk-dashed-wrapped\"><div class=\"sk-label-container\"><div class=\"sk-label sk-toggleable\"><input class=\"sk-toggleable__control sk-hidden--visually\" id=\"sk-estimator-id-1\" type=\"checkbox\" ><label for=\"sk-estimator-id-1\" class=\"sk-toggleable__label sk-toggleable__label-arrow\">ColumnTransformer</label><div class=\"sk-toggleable__content\"><pre>ColumnTransformer(transformers=[(&#x27;num&#x27;,\n",
       "                                 Pipeline(steps=[(&#x27;imputer&#x27;,\n",
       "                                                  SimpleImputer(strategy=&#x27;median&#x27;))]),\n",
       "                                 Index([&#x27;radiant_roshankill&#x27;, &#x27;radiant_Δroshankill&#x27;, &#x27;dire_roshankill&#x27;,\n",
       "       &#x27;dire_Δroshankill&#x27;, &#x27;good_tower1&#x27;, &#x27;good_tower2&#x27;, &#x27;good_tower3&#x27;,\n",
       "       &#x27;good_melee&#x27;, &#x27;good_range&#x27;, &#x27;good_fort&#x27;, &#x27;bad_tower1&#x27;, &#x27;bad_tower2&#x27;,\n",
       "       &#x27;bad_tower3&#x27;, &#x27;bad_melee&#x27;, &#x27;bad_range&#x27;, &#x27;bad_fort&#x27;, &#x27;y&#x27;, &#x27;ra...\n",
       "       &#x27;radiant_secret_shop_cost&#x27;, &#x27;dire_secret_shop_cost&#x27;,\n",
       "       &#x27;radiant_null_cost&#x27;, &#x27;dire_null_cost&#x27;, &#x27;radiant_Δkills&#x27;, &#x27;dire_Δkills&#x27;,\n",
       "       &#x27;radiant_kills&#x27;, &#x27;dire_kills&#x27;, &#x27;radiant_Δbuyback&#x27;, &#x27;dire_Δbuyback&#x27;,\n",
       "       &#x27;radiant_buyback&#x27;, &#x27;dire_buyback&#x27;, &#x27;radiant_Δrunes&#x27;, &#x27;dire_Δrunes&#x27;,\n",
       "       &#x27;radiant_runes&#x27;, &#x27;dire_runes&#x27;, &#x27;radiant_aegis&#x27;, &#x27;dire_aegis&#x27;,\n",
       "       &#x27;radiantΔaegis&#x27;, &#x27;direΔaegis&#x27;],\n",
       "      dtype=&#x27;object&#x27;))])</pre></div></div></div><div class=\"sk-parallel\"><div class=\"sk-parallel-item\"><div class=\"sk-item\"><div class=\"sk-label-container\"><div class=\"sk-label sk-toggleable\"><input class=\"sk-toggleable__control sk-hidden--visually\" id=\"sk-estimator-id-2\" type=\"checkbox\" ><label for=\"sk-estimator-id-2\" class=\"sk-toggleable__label sk-toggleable__label-arrow\">num</label><div class=\"sk-toggleable__content\"><pre>Index([&#x27;radiant_roshankill&#x27;, &#x27;radiant_Δroshankill&#x27;, &#x27;dire_roshankill&#x27;,\n",
       "       &#x27;dire_Δroshankill&#x27;, &#x27;good_tower1&#x27;, &#x27;good_tower2&#x27;, &#x27;good_tower3&#x27;,\n",
       "       &#x27;good_melee&#x27;, &#x27;good_range&#x27;, &#x27;good_fort&#x27;, &#x27;bad_tower1&#x27;, &#x27;bad_tower2&#x27;,\n",
       "       &#x27;bad_tower3&#x27;, &#x27;bad_melee&#x27;, &#x27;bad_range&#x27;, &#x27;bad_fort&#x27;, &#x27;y&#x27;, &#x27;radiant_xp_t&#x27;,\n",
       "       &#x27;dire_xp_t&#x27;, &#x27;radiant_Δxp_t&#x27;, &#x27;dire_Δxp_t&#x27;, &#x27;radiant_gold_t&#x27;,\n",
       "       &#x27;dire_gold_t&#x27;, &#x27;radiant_Δgold_t&#x27;, &#x27;dire_Δgold_t&#x27;, &#x27;radiant_dn_t&#x27;,\n",
       "       &#x27;dire_dn_t&#x27;, &#x27;radiant_Δdn_t&#x27;, &#x27;dire_Δdn_t&#x27;, &#x27;radiant_lh_t&#x27;, &#x27;dire_lh_t&#x27;,\n",
       "       &#x27;radiant_Δlh_t&#x27;, &#x27;dire_Δlh_t&#x27;, &#x27;radiant_artifact_count&#x27;,\n",
       "       &#x27;dire_artifact_count&#x27;, &#x27;radiant_common_count&#x27;, &#x27;dire_common_count&#x27;,\n",
       "       &#x27;radiant_component_count&#x27;, &#x27;dire_component_count&#x27;,\n",
       "       &#x27;radiant_consumable_count&#x27;, &#x27;dire_consumable_count&#x27;,\n",
       "       &#x27;radiant_epic_count&#x27;, &#x27;dire_epic_count&#x27;, &#x27;radiant_rare_count&#x27;,\n",
       "       &#x27;dire_rare_count&#x27;, &#x27;radiant_secret_shop_count&#x27;,\n",
       "       &#x27;dire_secret_shop_count&#x27;, &#x27;radiant_null_count&#x27;, &#x27;dire_null_count&#x27;,\n",
       "       &#x27;radiant_artifact_cost&#x27;, &#x27;dire_artifact_cost&#x27;, &#x27;radiant_common_cost&#x27;,\n",
       "       &#x27;dire_common_cost&#x27;, &#x27;radiant_component_cost&#x27;, &#x27;dire_component_cost&#x27;,\n",
       "       &#x27;radiant_consumable_cost&#x27;, &#x27;dire_consumable_cost&#x27;, &#x27;radiant_epic_cost&#x27;,\n",
       "       &#x27;dire_epic_cost&#x27;, &#x27;radiant_rare_cost&#x27;, &#x27;dire_rare_cost&#x27;,\n",
       "       &#x27;radiant_secret_shop_cost&#x27;, &#x27;dire_secret_shop_cost&#x27;,\n",
       "       &#x27;radiant_null_cost&#x27;, &#x27;dire_null_cost&#x27;, &#x27;radiant_Δkills&#x27;, &#x27;dire_Δkills&#x27;,\n",
       "       &#x27;radiant_kills&#x27;, &#x27;dire_kills&#x27;, &#x27;radiant_Δbuyback&#x27;, &#x27;dire_Δbuyback&#x27;,\n",
       "       &#x27;radiant_buyback&#x27;, &#x27;dire_buyback&#x27;, &#x27;radiant_Δrunes&#x27;, &#x27;dire_Δrunes&#x27;,\n",
       "       &#x27;radiant_runes&#x27;, &#x27;dire_runes&#x27;, &#x27;radiant_aegis&#x27;, &#x27;dire_aegis&#x27;,\n",
       "       &#x27;radiantΔaegis&#x27;, &#x27;direΔaegis&#x27;],\n",
       "      dtype=&#x27;object&#x27;)</pre></div></div></div><div class=\"sk-serial\"><div class=\"sk-item\"><div class=\"sk-serial\"><div class=\"sk-item\"><div class=\"sk-estimator sk-toggleable\"><input class=\"sk-toggleable__control sk-hidden--visually\" id=\"sk-estimator-id-3\" type=\"checkbox\" ><label for=\"sk-estimator-id-3\" class=\"sk-toggleable__label sk-toggleable__label-arrow\">SimpleImputer</label><div class=\"sk-toggleable__content\"><pre>SimpleImputer(strategy=&#x27;median&#x27;)</pre></div></div></div></div></div></div></div></div></div></div></div></div>"
      ],
      "text/plain": [
       "ColumnTransformer(transformers=[('num',\n",
       "                                 Pipeline(steps=[('imputer',\n",
       "                                                  SimpleImputer(strategy='median'))]),\n",
       "                                 Index(['radiant_roshankill', 'radiant_Δroshankill', 'dire_roshankill',\n",
       "       'dire_Δroshankill', 'good_tower1', 'good_tower2', 'good_tower3',\n",
       "       'good_melee', 'good_range', 'good_fort', 'bad_tower1', 'bad_tower2',\n",
       "       'bad_tower3', 'bad_melee', 'bad_range', 'bad_fort', 'y', 'ra...\n",
       "       'radiant_secret_shop_cost', 'dire_secret_shop_cost',\n",
       "       'radiant_null_cost', 'dire_null_cost', 'radiant_Δkills', 'dire_Δkills',\n",
       "       'radiant_kills', 'dire_kills', 'radiant_Δbuyback', 'dire_Δbuyback',\n",
       "       'radiant_buyback', 'dire_buyback', 'radiant_Δrunes', 'dire_Δrunes',\n",
       "       'radiant_runes', 'dire_runes', 'radiant_aegis', 'dire_aegis',\n",
       "       'radiantΔaegis', 'direΔaegis'],\n",
       "      dtype='object'))])"
      ]
     },
     "execution_count": 10,
     "metadata": {},
     "output_type": "execute_result"
    }
   ],
   "source": [
    "\n",
    "num_columns = X.select_dtypes(include=\"number\").columns\n",
    "\n",
    "\n",
    "num_transformer = Pipeline(\n",
    "    steps=[(\"imputer\", SimpleImputer(strategy=\"median\"))]\n",
    "    )\n",
    "\n",
    "\n",
    "preprocessor = ColumnTransformer(\n",
    "    transformers=[\n",
    "        (\"num\", num_transformer, num_columns),\n",
    "    ]\n",
    ")\n",
    "\n",
    "preprocessor.set_output(transform='pandas')\n",
    "preprocessor"
   ]
  },
  {
   "cell_type": "code",
   "execution_count": 11,
   "id": "7406f028",
   "metadata": {
    "execution": {
     "iopub.execute_input": "2024-03-24T16:50:01.398895Z",
     "iopub.status.busy": "2024-03-24T16:50:01.397695Z",
     "iopub.status.idle": "2024-03-24T16:50:03.767182Z",
     "shell.execute_reply": "2024-03-24T16:50:03.765378Z"
    },
    "papermill": {
     "duration": 2.38059,
     "end_time": "2024-03-24T16:50:03.770010",
     "exception": false,
     "start_time": "2024-03-24T16:50:01.389420",
     "status": "completed"
    },
    "tags": []
   },
   "outputs": [],
   "source": [
    "X_train = preprocessor.fit_transform(X_train)\n",
    "X_test = preprocessor.transform(X_test)"
   ]
  },
  {
   "cell_type": "code",
   "execution_count": 12,
   "id": "2e127dc0",
   "metadata": {
    "execution": {
     "iopub.execute_input": "2024-03-24T16:50:03.787357Z",
     "iopub.status.busy": "2024-03-24T16:50:03.786851Z",
     "iopub.status.idle": "2024-03-24T16:50:13.786804Z",
     "shell.execute_reply": "2024-03-24T16:50:13.785466Z"
    },
    "papermill": {
     "duration": 10.012486,
     "end_time": "2024-03-24T16:50:13.790178",
     "exception": false,
     "start_time": "2024-03-24T16:50:03.777692",
     "status": "completed"
    },
    "tags": []
   },
   "outputs": [
    {
     "name": "stdout",
     "output_type": "stream",
     "text": [
      "[LightGBM] [Info] Auto-choosing row-wise multi-threading, the overhead of testing was 0.069522 seconds.\n",
      "You can set `force_row_wise=true` to remove the overhead.\n",
      "And if memory is not enough, you can set `force_col_wise=true`.\n",
      "[LightGBM] [Info] Total Bins 8102\n",
      "[LightGBM] [Info] Number of data points in the train set: 131440, number of used features: 81\n",
      "[LightGBM] [Info] Start training from score 1072.303256\n"
     ]
    },
    {
     "data": {
      "text/html": [
       "<style>#sk-container-id-2 {color: black;background-color: white;}#sk-container-id-2 pre{padding: 0;}#sk-container-id-2 div.sk-toggleable {background-color: white;}#sk-container-id-2 label.sk-toggleable__label {cursor: pointer;display: block;width: 100%;margin-bottom: 0;padding: 0.3em;box-sizing: border-box;text-align: center;}#sk-container-id-2 label.sk-toggleable__label-arrow:before {content: \"▸\";float: left;margin-right: 0.25em;color: #696969;}#sk-container-id-2 label.sk-toggleable__label-arrow:hover:before {color: black;}#sk-container-id-2 div.sk-estimator:hover label.sk-toggleable__label-arrow:before {color: black;}#sk-container-id-2 div.sk-toggleable__content {max-height: 0;max-width: 0;overflow: hidden;text-align: left;background-color: #f0f8ff;}#sk-container-id-2 div.sk-toggleable__content pre {margin: 0.2em;color: black;border-radius: 0.25em;background-color: #f0f8ff;}#sk-container-id-2 input.sk-toggleable__control:checked~div.sk-toggleable__content {max-height: 200px;max-width: 100%;overflow: auto;}#sk-container-id-2 input.sk-toggleable__control:checked~label.sk-toggleable__label-arrow:before {content: \"▾\";}#sk-container-id-2 div.sk-estimator input.sk-toggleable__control:checked~label.sk-toggleable__label {background-color: #d4ebff;}#sk-container-id-2 div.sk-label input.sk-toggleable__control:checked~label.sk-toggleable__label {background-color: #d4ebff;}#sk-container-id-2 input.sk-hidden--visually {border: 0;clip: rect(1px 1px 1px 1px);clip: rect(1px, 1px, 1px, 1px);height: 1px;margin: -1px;overflow: hidden;padding: 0;position: absolute;width: 1px;}#sk-container-id-2 div.sk-estimator {font-family: monospace;background-color: #f0f8ff;border: 1px dotted black;border-radius: 0.25em;box-sizing: border-box;margin-bottom: 0.5em;}#sk-container-id-2 div.sk-estimator:hover {background-color: #d4ebff;}#sk-container-id-2 div.sk-parallel-item::after {content: \"\";width: 100%;border-bottom: 1px solid gray;flex-grow: 1;}#sk-container-id-2 div.sk-label:hover label.sk-toggleable__label {background-color: #d4ebff;}#sk-container-id-2 div.sk-serial::before {content: \"\";position: absolute;border-left: 1px solid gray;box-sizing: border-box;top: 0;bottom: 0;left: 50%;z-index: 0;}#sk-container-id-2 div.sk-serial {display: flex;flex-direction: column;align-items: center;background-color: white;padding-right: 0.2em;padding-left: 0.2em;position: relative;}#sk-container-id-2 div.sk-item {position: relative;z-index: 1;}#sk-container-id-2 div.sk-parallel {display: flex;align-items: stretch;justify-content: center;background-color: white;position: relative;}#sk-container-id-2 div.sk-item::before, #sk-container-id-2 div.sk-parallel-item::before {content: \"\";position: absolute;border-left: 1px solid gray;box-sizing: border-box;top: 0;bottom: 0;left: 50%;z-index: -1;}#sk-container-id-2 div.sk-parallel-item {display: flex;flex-direction: column;z-index: 1;position: relative;background-color: white;}#sk-container-id-2 div.sk-parallel-item:first-child::after {align-self: flex-end;width: 50%;}#sk-container-id-2 div.sk-parallel-item:last-child::after {align-self: flex-start;width: 50%;}#sk-container-id-2 div.sk-parallel-item:only-child::after {width: 0;}#sk-container-id-2 div.sk-dashed-wrapped {border: 1px dashed gray;margin: 0 0.4em 0.5em 0.4em;box-sizing: border-box;padding-bottom: 0.4em;background-color: white;}#sk-container-id-2 div.sk-label label {font-family: monospace;font-weight: bold;display: inline-block;line-height: 1.2em;}#sk-container-id-2 div.sk-label-container {text-align: center;}#sk-container-id-2 div.sk-container {/* jupyter's `normalize.less` sets `[hidden] { display: none; }` but bootstrap.min.css set `[hidden] { display: none !important; }` so we also need the `!important` here to be able to override the default hidden behavior on the sphinx rendered scikit-learn.org. See: https://github.com/scikit-learn/scikit-learn/issues/21755 */display: inline-block !important;position: relative;}#sk-container-id-2 div.sk-text-repr-fallback {display: none;}</style><div id=\"sk-container-id-2\" class=\"sk-top-container\"><div class=\"sk-text-repr-fallback\"><pre>LGBMRegressor(learning_rate=0.01, max_depth=4, n_estimators=200,\n",
       "              objective=&#x27;mse&#x27;)</pre><b>In a Jupyter environment, please rerun this cell to show the HTML representation or trust the notebook. <br />On GitHub, the HTML representation is unable to render, please try loading this page with nbviewer.org.</b></div><div class=\"sk-container\" hidden><div class=\"sk-item\"><div class=\"sk-estimator sk-toggleable\"><input class=\"sk-toggleable__control sk-hidden--visually\" id=\"sk-estimator-id-4\" type=\"checkbox\" checked><label for=\"sk-estimator-id-4\" class=\"sk-toggleable__label sk-toggleable__label-arrow\">LGBMRegressor</label><div class=\"sk-toggleable__content\"><pre>LGBMRegressor(learning_rate=0.01, max_depth=4, n_estimators=200,\n",
       "              objective=&#x27;mse&#x27;)</pre></div></div></div></div></div>"
      ],
      "text/plain": [
       "LGBMRegressor(learning_rate=0.01, max_depth=4, n_estimators=200,\n",
       "              objective='mse')"
      ]
     },
     "execution_count": 12,
     "metadata": {},
     "output_type": "execute_result"
    }
   ],
   "source": [
    "model = lgb.LGBMRegressor(objective='mse', n_estimators=200, max_depth=4, learning_rate=0.01)\n",
    "model.fit(X_train, y_train,\n",
    "          eval_set=[(X_test, y_test), (X_train, y_train)],\n",
    "          eval_names = ['test', 'train'],\n",
    "          eval_metric='mae')"
   ]
  },
  {
   "cell_type": "code",
   "execution_count": 13,
   "id": "d52818f0",
   "metadata": {
    "execution": {
     "iopub.execute_input": "2024-03-24T16:50:13.806637Z",
     "iopub.status.busy": "2024-03-24T16:50:13.806205Z",
     "iopub.status.idle": "2024-03-24T16:50:13.813667Z",
     "shell.execute_reply": "2024-03-24T16:50:13.812221Z"
    },
    "papermill": {
     "duration": 0.018934,
     "end_time": "2024-03-24T16:50:13.816428",
     "exception": false,
     "start_time": "2024-03-24T16:50:13.797494",
     "status": "completed"
    },
    "tags": []
   },
   "outputs": [],
   "source": [
    "def get_metrics(y_true, y_pred, name=\"model\"):\n",
    "  df = pd.DataFrame()\n",
    "\n",
    "  df.loc[\"MAE\", name] = metrics.mean_absolute_error(y_true, y_pred)\n",
    "  df.loc[\"RMSE\", name] = metrics.mean_squared_error(y_true, y_pred) ** 0.5\n",
    "  df.loc[\"R2\", name] = metrics.r2_score(y_true, y_pred)\n",
    "\n",
    "  return df.round(2)"
   ]
  },
  {
   "cell_type": "code",
   "execution_count": 14,
   "id": "04a8d629",
   "metadata": {
    "execution": {
     "iopub.execute_input": "2024-03-24T16:50:13.835543Z",
     "iopub.status.busy": "2024-03-24T16:50:13.834214Z",
     "iopub.status.idle": "2024-03-24T16:50:14.407300Z",
     "shell.execute_reply": "2024-03-24T16:50:14.405927Z"
    },
    "papermill": {
     "duration": 0.585047,
     "end_time": "2024-03-24T16:50:14.410177",
     "exception": false,
     "start_time": "2024-03-24T16:50:13.825130",
     "status": "completed"
    },
    "tags": []
   },
   "outputs": [
    {
     "data": {
      "text/plain": [
       "<Axes: title={'center': 'Feature importance'}, xlabel='Feature importance', ylabel='Features'>"
      ]
     },
     "execution_count": 14,
     "metadata": {},
     "output_type": "execute_result"
    },
    {
     "data": {
      "image/png": "[encoded data removed]",
      "text/plain": [
       "<Figure size 640x480 with 1 Axes>"
      ]
     },
     "metadata": {},
     "output_type": "display_data"
    }
   ],
   "source": [
    "lgb.plot_importance(model, max_num_features=20)"
   ]
  },
  {
   "cell_type": "code",
   "execution_count": null,
   "id": "81ff0738",
   "metadata": {
    "papermill": {
     "duration": 0.009045,
     "end_time": "2024-03-24T16:50:14.427712",
     "exception": false,
     "start_time": "2024-03-24T16:50:14.418667",
     "status": "completed"
    },
    "tags": []
   },
   "outputs": [],
   "source": []
  },
  {
   "cell_type": "code",
   "execution_count": 15,
   "id": "28c7d4f3",
   "metadata": {
    "execution": {
     "iopub.execute_input": "2024-03-24T16:50:14.447340Z",
     "iopub.status.busy": "2024-03-24T16:50:14.446808Z",
     "iopub.status.idle": "2024-03-24T16:50:15.617206Z",
     "shell.execute_reply": "2024-03-24T16:50:15.615551Z"
    },
    "papermill": {
     "duration": 1.183926,
     "end_time": "2024-03-24T16:50:15.620362",
     "exception": false,
     "start_time": "2024-03-24T16:50:14.436436",
     "status": "completed"
    },
    "tags": []
   },
   "outputs": [
    {
     "data": {
      "text/html": [
       "<div>\n",
       "<style scoped>\n",
       "    .dataframe tbody tr th:only-of-type {\n",
       "        vertical-align: middle;\n",
       "    }\n",
       "\n",
       "    .dataframe tbody tr th {\n",
       "        vertical-align: top;\n",
       "    }\n",
       "\n",
       "    .dataframe thead th {\n",
       "        text-align: right;\n",
       "    }\n",
       "</style>\n",
       "<table border=\"1\" class=\"dataframe\">\n",
       "  <thead>\n",
       "    <tr style=\"text-align: right;\">\n",
       "      <th></th>\n",
       "      <th>train</th>\n",
       "      <th>test</th>\n",
       "    </tr>\n",
       "  </thead>\n",
       "  <tbody>\n",
       "    <tr>\n",
       "      <th>MAE</th>\n",
       "      <td>92.01</td>\n",
       "      <td>91.33</td>\n",
       "    </tr>\n",
       "    <tr>\n",
       "      <th>RMSE</th>\n",
       "      <td>119.24</td>\n",
       "      <td>118.58</td>\n",
       "    </tr>\n",
       "    <tr>\n",
       "      <th>R2</th>\n",
       "      <td>0.97</td>\n",
       "      <td>0.97</td>\n",
       "    </tr>\n",
       "  </tbody>\n",
       "</table>\n",
       "</div>"
      ],
      "text/plain": [
       "       train    test\n",
       "MAE    92.01   91.33\n",
       "RMSE  119.24  118.58\n",
       "R2      0.97    0.97"
      ]
     },
     "execution_count": 15,
     "metadata": {},
     "output_type": "execute_result"
    }
   ],
   "source": [
    "all_metrics = pd.DataFrame()\n",
    "\n",
    "all_metrics[\"train\"] = get_metrics(y_train, model.predict(X_train))\n",
    "all_metrics[\"test\"] = get_metrics(y_test, model.predict(X_test))\n",
    "\n",
    "all_metrics"
   ]
  },
  {
   "cell_type": "code",
   "execution_count": 16,
   "id": "58666b5d",
   "metadata": {
    "execution": {
     "iopub.execute_input": "2024-03-24T16:50:15.640831Z",
     "iopub.status.busy": "2024-03-24T16:50:15.640397Z",
     "iopub.status.idle": "2024-03-24T16:50:16.096194Z",
     "shell.execute_reply": "2024-03-24T16:50:16.094463Z"
    },
    "papermill": {
     "duration": 0.468583,
     "end_time": "2024-03-24T16:50:16.098832",
     "exception": false,
     "start_time": "2024-03-24T16:50:15.630249",
     "status": "completed"
    },
    "tags": []
   },
   "outputs": [
    {
     "data": {
      "text/plain": [
       "<Axes: title={'center': 'Metric during training'}, xlabel='Iterations', ylabel='l1'>"
      ]
     },
     "execution_count": 16,
     "metadata": {},
     "output_type": "execute_result"
    },
    {
     "data": {
      "image/png": "[encoded data removed]",
      "text/plain": [
       "<Figure size 640x480 with 1 Axes>"
      ]
     },
     "metadata": {},
     "output_type": "display_data"
    }
   ],
   "source": [
    "lgb.plot_metric(model,\n",
    "                metric='l1')"
   ]
  }
 ],
 "metadata": {
  "kaggle": {
   "accelerator": "none",
   "dataSources": [
    {
     "datasetId": 1202763,
     "sourceId": 2011027,
     "sourceType": "datasetVersion"
    }
   ],
   "dockerImageVersionId": 30673,
   "isGpuEnabled": false,
   "isInternetEnabled": true,
   "language": "python",
   "sourceType": "notebook"
  },
  "kernelspec": {
   "display_name": "Python 3",
   "language": "python",
   "name": "python3"
  },
  "language_info": {
   "codemirror_mode": {
    "name": "ipython",
    "version": 3
   },
   "file_extension": ".py",
   "mimetype": "text/x-python",
   "name": "python",
   "nbconvert_exporter": "python",
   "pygments_lexer": "ipython3",
   "version": "3.10.13"
  },
  "papermill": {
   "default_parameters": {},
   "duration": 26.514332,
   "end_time": "2024-03-24T16:50:16.833214",
   "environment_variables": {},
   "exception": null,
   "input_path": "__notebook__.ipynb",
   "output_path": "__notebook__.ipynb",
   "parameters": {},
   "start_time": "2024-03-24T16:49:50.318882",
   "version": "2.5.0"
  }
 },
 "nbformat": 4,
 "nbformat_minor": 5
}
